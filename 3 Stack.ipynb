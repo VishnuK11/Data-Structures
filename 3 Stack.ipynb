{
 "cells": [
  {
   "cell_type": "markdown",
   "metadata": {},
   "source": [
    "\n",
    "# Stack using linked list"
   ]
  },
  {
   "cell_type": "markdown",
   "metadata": {},
   "source": [
    "Create a stack with linked list as a member. Each linked list has a value and ptr variable. "
   ]
  },
  {
   "cell_type": "code",
   "execution_count": 7,
   "metadata": {
    "collapsed": true
   },
   "outputs": [],
   "source": [
    "class linked_list():\n",
    "    def __init__(self,value):\n",
    "        self.value=value\n",
    "        self.ptr=None\n",
    "    \n",
    "class stack(linked_list):\n",
    "    def __init__(self):\n",
    "        self.top=linked_list(None)\n",
    "        \n",
    "    def push(self,new_value):\n",
    "        temp=linked_list(new_value)\n",
    "        temp.ptr=self.top\n",
    "        self.top=temp\n",
    "        del temp\n",
    "        \n",
    "    def pop(self):\n",
    "        temp=self.top\n",
    "        self.top=self.top.ptr\n",
    "        del temp\n",
    "        \n",
    "    def peek(self):\n",
    "        #print(\"Top value is :\", self.top.value)\n",
    "        return self.top.value\n",
    "    \n",
    "    def printall(self):\n",
    "        temp=self.top\n",
    "        count=0\n",
    "        while temp.value!=None:\n",
    "            print(temp.value,\" \",)\n",
    "            count+=1\n",
    "            temp=temp.ptr\n",
    "        print(\"Total No of items is:\", count)"
   ]
  },
  {
   "cell_type": "code",
   "execution_count": 8,
   "metadata": {
    "collapsed": true
   },
   "outputs": [],
   "source": [
    "new_stack=stack()\n",
    "for i in range(5):\n",
    "    new_stack.push(i)"
   ]
  },
  {
   "cell_type": "code",
   "execution_count": 9,
   "metadata": {},
   "outputs": [
    {
     "data": {
      "text/plain": [
       "4"
      ]
     },
     "execution_count": 9,
     "metadata": {},
     "output_type": "execute_result"
    }
   ],
   "source": [
    "new_stack.peek()"
   ]
  },
  {
   "cell_type": "code",
   "execution_count": 10,
   "metadata": {},
   "outputs": [
    {
     "data": {
      "text/plain": [
       "3"
      ]
     },
     "execution_count": 10,
     "metadata": {},
     "output_type": "execute_result"
    }
   ],
   "source": [
    "new_stack.pop()\n",
    "new_stack.peek()"
   ]
  },
  {
   "cell_type": "code",
   "execution_count": 11,
   "metadata": {},
   "outputs": [
    {
     "name": "stdout",
     "output_type": "stream",
     "text": [
      "3  \n",
      "2  \n",
      "1  \n",
      "0  \n",
      "Total No of items is: 4\n"
     ]
    }
   ],
   "source": [
    "new_stack.printall()"
   ]
  },
  {
   "cell_type": "markdown",
   "metadata": {},
   "source": [
    "# Bracket Check Example"
   ]
  },
  {
   "cell_type": "code",
   "execution_count": 12,
   "metadata": {
    "collapsed": true
   },
   "outputs": [],
   "source": [
    "# if left - then add\n",
    "# if right - then if rev, then remove, if null, then finish, else error\n",
    "\n",
    "bracket_rev={\n",
    "    '{' : '}',\n",
    "    '[' : ']',\n",
    "    '(' : ')' }\n",
    "\n",
    "def has_key(key):\n",
    "    found=False\n",
    "    for i in bracket_rev.keys():\n",
    "        if  i==key:\n",
    "            found=True\n",
    "    return found\n",
    "\n",
    "def has_val(val):\n",
    "    found=False\n",
    "    for i in bracket_rev.values():\n",
    "        if  i==val:\n",
    "            found=True\n",
    "    return found"
   ]
  },
  {
   "cell_type": "code",
   "execution_count": 33,
   "metadata": {},
   "outputs": [
    {
     "name": "stdout",
     "output_type": "stream",
     "text": [
      "Here2\n",
      "{  \n",
      "Total No of items is: 1\n",
      "Error was found to be : True\n"
     ]
    }
   ],
   "source": [
    "text=\"{{[]}}{)\"\n",
    "new_stack=stack()\n",
    "error=False\n",
    "for char in text:\n",
    "    if has_key(char):\n",
    "        new_stack.push(char)\n",
    "    elif has_val(char):\n",
    "        try:  \n",
    "            if bracket_rev[new_stack.peek()]==char:\n",
    "                new_stack.pop()\n",
    "            else:\n",
    "                error=True\n",
    "                break\n",
    "        \n",
    "        except KeyError:\n",
    "            error=True\n",
    "            \n",
    "\n",
    "if new_stack.top.value!=None:\n",
    "#     print(\"Here2\")\n",
    "    error=True\n",
    "    \n",
    "new_stack.printall()\n",
    "print(\"Error was found to be :\", error)"
   ]
  }
 ],
 "metadata": {
  "kernelspec": {
   "display_name": "Python 3",
   "language": "python",
   "name": "python3"
  },
  "language_info": {
   "codemirror_mode": {
    "name": "ipython",
    "version": 3
   },
   "file_extension": ".py",
   "mimetype": "text/x-python",
   "name": "python",
   "nbconvert_exporter": "python",
   "pygments_lexer": "ipython3",
   "version": "3.6.1"
  }
 },
 "nbformat": 4,
 "nbformat_minor": 2
}
