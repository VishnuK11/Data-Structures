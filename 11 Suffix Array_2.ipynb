{
 "cells": [
  {
   "cell_type": "markdown",
   "metadata": {},
   "source": [
    "# Suffix Array"
   ]
  },
  {
   "cell_type": "code",
   "execution_count": null,
   "metadata": {
    "collapsed": true
   },
   "outputs": [],
   "source": [
    "# List of all unique substrings\n",
    "# Longest Common Substring in K strings - common to k strings only among N\n",
    "# Longest repeated substring - repeate within itself\n",
    "\n",
    "# Number of unique substrings is : n(n+1)/2 - Sum of lCPs\n",
    "# A substring that is common in K of N strings\n",
    "\n",
    "\n",
    "# Open kattis substring problems\n",
    "\n",
    "# TOdo\n",
    "# IF the 3 main substrings are not adjacent, need to add a large window until exactly k suffixes are present. \n",
    "# Need to add this feature"
   ]
  },
  {
   "cell_type": "code",
   "execution_count": null,
   "metadata": {
    "collapsed": true
   },
   "outputs": [],
   "source": [
    "\n",
    "# Instead of checking $%# for each line in a window, do a hash table based on lengths, if it makes it faster. \n",
    "# Not sure. need to try\n",
    "\n",
    "# Something wrong with example at 6:39 in video.. ONly bcd is coming not cde\n",
    "#Need to implement shrink down fomtop of window too"
   ]
  },
  {
   "cell_type": "code",
   "execution_count": null,
   "metadata": {
    "collapsed": true
   },
   "outputs": [],
   "source": [
    "class suffix_array:\n",
    "    def __init__(self,intake):\n",
    "        #self.full_string=input(\"Enter String: \")\n",
    "        self.full_string=intake\n",
    "        self.size=len(self.full_string)\n",
    "        self.suffix_all()\n",
    "        \n",
    "    def suffix_all(self):\n",
    "        self.suffixes=[]\n",
    "        self.length=[]\n",
    "        self.sorted_suffixes=[]\n",
    "        for ind in range(-1,-self.size-1,-1):\n",
    "            self.suffixes.append(self.full_string[ind:(self.size)].lower())\n",
    "        self.suffixes.sort()\n",
    "        for i in range(self.size):\n",
    "            self.length.append(len(self.suffixes[i]))\n",
    "        self.sorted_suffixes=[self.suffixes,self.length]\n",
    "        \n",
    "        self.lcp_all()\n",
    "#         print(\"Sorted Suffixes:\",self.sorted_suffixes)\n",
    "#         print(\"LCP:\",self.lcp)\n",
    "        \n",
    "    def lcp_all(self):\n",
    "        self.lcp=[0]\n",
    "        count=0\n",
    "        for row in range(self.size-1):\n",
    "            count=0\n",
    "            word1=self.sorted_suffixes[0][row]\n",
    "            word2=self.sorted_suffixes[0][row+1]\n",
    "            while count<len(word1) and count<len(word2) and word1[count]==word2[count]:\n",
    "                count+=1\n",
    "            self.lcp.append(count)\n",
    "#         print(\"LCP:\",lcp)"
   ]
  },
  {
   "cell_type": "code",
   "execution_count": 4,
   "metadata": {
    "collapsed": true
   },
   "outputs": [],
   "source": [
    "class common_substring(suffix_array):\n",
    "    def __init__(self):\n",
    "        self.individual=[]\n",
    "        self.combined=[]\n",
    "        self.special='#$%&'\n",
    "        print(\"Enter 4 strings\")\n",
    "        for i in range(4):\n",
    "            self.individual.append(str(input(\"Enter Here: \")))\n",
    "            self.combined+=self.individual[i]+self.special[i]\n",
    "        self.combined=''.join(self.combined)\n",
    "        print(self.combined)\n",
    "        self.sa=suffix_array(self.combined)\n",
    "        \n",
    "    def search_k_string(self,window_size):\n",
    "        max_length=[0]\n",
    "        max_string=['']\n",
    "        for i in range(3,self.sa.size-window_size+1):\n",
    "            flex_window=window_size\n",
    "            found=False\n",
    "            while found!=True and flex_window+i<self.sa.size:\n",
    "                window=self.sa.sorted_suffixes[0][i:i+flex_window]\n",
    "                window_lcp=self.sa.lcp[i:i+flex_window]\n",
    "                style=[]\n",
    "#             print(\"Window\",window)\n",
    "                for line in window:\n",
    "                    count=0\n",
    "#                 print(\"Line:\",line)\n",
    "                \n",
    "                    if '#' in line:\n",
    "                        count+=1\n",
    "                    if '$' in line:\n",
    "                        count+=1\n",
    "                    if '%' in line:\n",
    "                        count+=1\n",
    "                    if '&' in line:\n",
    "                        count+=1\n",
    "                    \n",
    "                    style.append(count)\n",
    "                if len(set(style))==window_size:\n",
    "                    found=True\n",
    "#                     if len(set(window_lcp[1:]))==1 and window_lcp[1]!=0:\n",
    "                    if min(window_lcp[1:])>0: \n",
    "                        max_length.append(min(window_lcp[1:]))\n",
    "                        max_string.append(window[1][:min(window_lcp[1:])])\n",
    "                else:\n",
    "                    flex_window+=1\n",
    "        print(\"common substring of length \",max_length,\" is \",max_string)\n",
    "        print(\"Longest substring of length \",max(max_length),\" is \",max_string[max_length.index(max(max_length))])\n",
    "        "
   ]
  },
  {
   "cell_type": "code",
   "execution_count": 5,
   "metadata": {},
   "outputs": [
    {
     "name": "stdout",
     "output_type": "stream",
     "text": [
      "Enter 4 strings\n",
      "Enter Here: aabc\n",
      "Enter Here: bcdc\n",
      "Enter Here: bcde\n",
      "Enter Here: cded\n",
      "aabc#bcdc$bcde%cded&\n"
     ]
    }
   ],
   "source": [
    "cs=common_substring()"
   ]
  },
  {
   "cell_type": "code",
   "execution_count": 6,
   "metadata": {},
   "outputs": [
    {
     "name": "stdout",
     "output_type": "stream",
     "text": [
      "common substring of length  [0, 2, 3, 1, 1, 2, 3, 1, 1, 2]  is  ['', 'bc', 'bcd', 'c', 'c', 'cd', 'cde', 'd', 'd', 'de']\n",
      "Longest substring of length  3  is  bcd\n"
     ]
    }
   ],
   "source": [
    "cs.search_k_string(2)"
   ]
  },
  {
   "cell_type": "code",
   "execution_count": null,
   "metadata": {
    "collapsed": true
   },
   "outputs": [],
   "source": [
    "cs.combined"
   ]
  },
  {
   "cell_type": "code",
   "execution_count": 10,
   "metadata": {},
   "outputs": [
    {
     "data": {
      "text/plain": [
       "[0, 1, 4, 1, 1, 0, 3, 0, 0, 0, 2]"
      ]
     },
     "execution_count": 10,
     "metadata": {},
     "output_type": "execute_result"
    }
   ],
   "source": [
    "sa=suffix_array('abracadabra')\n",
    "sa.sorted_suffixes[0] # loncgest repeated substring\n",
    "sa.lcp_all()\n",
    "sa.lcp"
   ]
  },
  {
   "cell_type": "code",
   "execution_count": null,
   "metadata": {
    "collapsed": true
   },
   "outputs": [],
   "source": [
    "a=[1,2,3,4,5]\n",
    "a.index(max(a))"
   ]
  },
  {
   "cell_type": "code",
   "execution_count": 13,
   "metadata": {},
   "outputs": [
    {
     "data": {
      "text/plain": [
       "'abracadabra'"
      ]
     },
     "execution_count": 13,
     "metadata": {},
     "output_type": "execute_result"
    }
   ],
   "source": [
    "sa.sorted_suffixes[0][2]\n"
   ]
  },
  {
   "cell_type": "code",
   "execution_count": 9,
   "metadata": {},
   "outputs": [
    {
     "data": {
      "text/plain": [
       "[0, 0, 0, 0, 0, 1, 0, 2, 3, 0, 1, 1, 2, 3, 0, 1, 1, 2, 0, 1]"
      ]
     },
     "execution_count": 9,
     "metadata": {},
     "output_type": "execute_result"
    }
   ],
   "source": [
    "cs.sa.lcp"
   ]
  }
 ],
 "metadata": {
  "kernelspec": {
   "display_name": "Python 3",
   "language": "python",
   "name": "python3"
  },
  "language_info": {
   "codemirror_mode": {
    "name": "ipython",
    "version": 3
   },
   "file_extension": ".py",
   "mimetype": "text/x-python",
   "name": "python",
   "nbconvert_exporter": "python",
   "pygments_lexer": "ipython3",
   "version": "3.6.1"
  }
 },
 "nbformat": 4,
 "nbformat_minor": 2
}
