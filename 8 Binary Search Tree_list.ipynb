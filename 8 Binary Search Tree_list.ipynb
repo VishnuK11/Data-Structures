{
 "cells": [
  {
   "cell_type": "markdown",
   "metadata": {},
   "source": [
    "# Binary Search Tree - List"
   ]
  },
  {
   "cell_type": "code",
   "execution_count": 3,
   "metadata": {
    "collapsed": true
   },
   "outputs": [],
   "source": [
    "from math import pow,log \n",
    "import random"
   ]
  },
  {
   "cell_type": "code",
   "execution_count": 4,
   "metadata": {
    "collapsed": true
   },
   "outputs": [],
   "source": [
    "class bst:\n",
    "    # Adding\n",
    "    # Removing\n",
    "    # Printing\n",
    "    # Traversing\n",
    "    \n",
    "    def __init__(self):\n",
    "        self.value,self.index=[[],[]]\n",
    "        self.capacity=1 # starts with 1\n",
    "        self.last=0  # starts with zero\n",
    "        self.value.append(None)\n",
    "        self.index.append(0)\n",
    "        \n",
    "    def add(self,add_value):\n",
    "        current=0\n",
    "        # Find Slot\n",
    "        while self.value[current]!=None:\n",
    "            if add_value<self.value[current]:\n",
    "                current=2*current+1\n",
    "            elif add_value>self.value[current]:\n",
    "                current=2*current+2\n",
    "            else:\n",
    "                print(\"Duplicate Found. Not added\")\n",
    "                break # Duplicate handling - Create another copy on left\n",
    "            if current>=self.capacity:\n",
    "                self.add_row()\n",
    "\n",
    "        self.value[current]=add_value\n",
    "        #self.printall()  \n",
    "            \n",
    "    def add_row(self): # Add a new row of elemments and initiate it to none\n",
    "        self.capacity+= int(pow(2,log(self.capacity,2)))+1\n",
    "        for i in range(self.last,self.capacity):\n",
    "            self.value.append(None)\n",
    "            self.index.append(i)\n",
    "            \n",
    "    def remove(self,remove_value):\n",
    "        current=0\n",
    "        case=-1\n",
    "        # Find Slot\n",
    "        # Check Case 0, 1, 2, 3, 4\n",
    "        # Perform Case 0, 1, 2, 3, 4\n",
    "        while self.value[current]!=None and current<self.capacity:\n",
    "            if remove_value<self.value[current]:\n",
    "                current=2*current+1\n",
    "            elif remove_value>self.value[current]:\n",
    "                current=2*current+2\n",
    "            elif remove_value==self.value[current]:\n",
    "                break\n",
    "                   \n",
    "        case=isleaf(current)\n",
    "        \n",
    "        if case==-1:\n",
    "            print(\"Couldn't find item\")\n",
    "        elif case==4:\n",
    "            self.copy_subtree(current)\n",
    "            print(\"Need to peform subtree replacement\")\n",
    "        elif case==5:\n",
    "            print(\"Some error finding case\")\n",
    "        \n",
    "#         switch = {'-1':print(\"Error\") \n",
    "#                   '0': print(\"Item not found\") \n",
    "#                   '1': self.value[current]=None\n",
    "#                   '2': temp=self.value[current]\n",
    "#                        self.value[current]=self.value[2*current+1]\n",
    "#                   '3': 2\n",
    "#                   '4': 2\n",
    "#                  }\n",
    "#         result = switch.get(case, 'default')\n",
    "        \n",
    "        self.printall()  \n",
    "       \n",
    "    def isleaf(self,current):\n",
    "        child1=2*current+1\n",
    "        child2=2*current+2\n",
    "        #Check what happends when you remove the last most node. Might have an error trying to find it\n",
    "        if  current>=self.capacity :\n",
    "            print(\"Item not found\")\n",
    "            return 0 # Case 0 Item not found\n",
    "        elif self.value[current]==None:\n",
    "            print(\"Item not found\")\n",
    "            return 0 # Case 0 Item not found\n",
    "        elif child1>=self.capacity and child2>=self.capacity:\n",
    "            self.value[current]=None\n",
    "            return 1 # Case 1 Leaf Node. No children\n",
    "        elif self.value[child1]==None and self.value[child2]==None:\n",
    "            self.value[current]=None\n",
    "            return 1 # Case 1 Leaf Node. No children\n",
    "        elif self.value[child1]!=None and self.value[child2]==None:\n",
    "            index=current\n",
    "            self.value[current]=self.value[child1]\n",
    "            #copy algorithm\n",
    "            return 2 # Case 2 Left child only\n",
    "        elif self.value[child1]==None and self.value[child2]!=None:\n",
    "            return 3 # Case 3 Right child only\n",
    "        elif self.value[child1]!=None and self.value[child2]!=None:\n",
    "            return 4 # Case 4 Both Children\n",
    "            \n",
    "    def copy_subtree(self, current):\n",
    "        p=current\n",
    "        child1=2*current+1\n",
    "        child1=2*current+2\n",
    "        q=2*current+2 #(For right child)\n",
    "        while(self.value[child1]!=None and self.value[child1]!=None):\n",
    "            self.value[2*p+1]=self.value[2*q+1]\n",
    "            self.value[p]=self.copy_subtree(q)\n",
    "            self.value[2*p+2]=self.value[2*q+2]\n",
    "\n",
    "    def printall(self):\n",
    "        count=0\n",
    "        binary=0\n",
    "        print(\"\\nCapacity\",self.capacity)\n",
    "        for i in range(self.capacity):\n",
    "            print(self.value[i],\" \", end =\"\")\n",
    "            count+=1\n",
    "            if count>=(2**binary):\n",
    "                binary+=1\n",
    "                count=0\n",
    "                print(\"\\n\", end =\"\")\n",
    "        print()\n",
    "        \n",
    "    def printree(self):\n",
    "        level=int(log(self.capacity+1,2))\n",
    "        binary=0\n",
    "        count=0\n",
    "        print(\"\\nCapacity\",self.capacity)\n",
    "        for i in range(self.capacity):\n",
    "            j=int(pow(2,level-1-binary))\n",
    "            for k in range(int(j/2+1)):\n",
    "                print(\"  \", end =\"\")\n",
    "            if self.value[i]==None:\n",
    "                print(\"__\", end =\"\")\n",
    "            else:\n",
    "                print(self.value[i],end =\"\")\n",
    "            for k in range(int(j/2+1)):\n",
    "                print(\"  \", end =\"\")\n",
    "                    \n",
    "            count+=1\n",
    "            if count>=(2**binary):\n",
    "                binary+=1\n",
    "                count=0\n",
    "                print(\"\\n\", end =\"\")\n",
    "        "
   ]
  },
  {
   "cell_type": "code",
   "execution_count": 5,
   "metadata": {},
   "outputs": [
    {
     "name": "stdout",
     "output_type": "stream",
     "text": [
      "Duplicate Found. Not added\n",
      "Duplicate Found. Not added\n",
      "\n",
      "Capacity 31\n",
      "13  \n",
      "1  16  \n",
      "None  2  None  None  \n",
      "None  None  None  5  None  None  None  None  \n",
      "None  None  None  None  None  None  None  7  None  None  None  None  None  None  None  None  \n",
      "\n"
     ]
    }
   ],
   "source": [
    "Tree=bst()\n",
    "for i in range(8):\n",
    "    Tree.add(random.randint(0, 20))\n",
    "Tree.printall()\n",
    "\n",
    "# Tree.add(3)\n",
    "# Tree.add(2)\n",
    "# Tree.add(5)\n",
    "# Tree.add(7)\n",
    "# Tree.add(6)\n",
    "# Tree.add(9)\n",
    "# Tree.add(1)"
   ]
  },
  {
   "cell_type": "code",
   "execution_count": 52,
   "metadata": {
    "collapsed": true
   },
   "outputs": [],
   "source": [
    "Tree.copy_subtree(2)"
   ]
  },
  {
   "cell_type": "code",
   "execution_count": 53,
   "metadata": {},
   "outputs": [
    {
     "name": "stdout",
     "output_type": "stream",
     "text": [
      "\n",
      "Capacity 15\n",
      "          13          \n",
      "      7            19      \n",
      "    2        8        14        __    \n",
      "  __    3    __    10    __    __    __    __  \n"
     ]
    }
   ],
   "source": [
    "Tree.printree()"
   ]
  },
  {
   "cell_type": "code",
   "execution_count": 33,
   "metadata": {},
   "outputs": [
    {
     "name": "stdout",
     "output_type": "stream",
     "text": [
      "[1, 9, 3] [2, 2, 6]\n"
     ]
    }
   ],
   "source": [
    "a=[1,2,3]\n",
    "b=[2,4,6]\n",
    "b[1]=a[1]\n",
    "a[1]=9\n",
    "print(a,b)"
   ]
  },
  {
   "cell_type": "code",
   "execution_count": null,
   "metadata": {
    "collapsed": true
   },
   "outputs": [],
   "source": []
  }
 ],
 "metadata": {
  "kernelspec": {
   "display_name": "Python 3",
   "language": "python",
   "name": "python3"
  },
  "language_info": {
   "codemirror_mode": {
    "name": "ipython",
    "version": 3
   },
   "file_extension": ".py",
   "mimetype": "text/x-python",
   "name": "python",
   "nbconvert_exporter": "python",
   "pygments_lexer": "ipython3",
   "version": "3.6.1"
  }
 },
 "nbformat": 4,
 "nbformat_minor": 2
}
