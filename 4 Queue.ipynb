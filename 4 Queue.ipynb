{
 "cells": [
  {
   "cell_type": "markdown",
   "metadata": {},
   "source": [
    "\n",
    "# Queue"
   ]
  },
  {
   "cell_type": "markdown",
   "metadata": {},
   "source": [
    "Create a queue with linked list as a member. Each linked list has a value and ptr variable. "
   ]
  },
  {
   "cell_type": "code",
   "execution_count": 1,
   "metadata": {
    "collapsed": true
   },
   "outputs": [],
   "source": [
    "class linked_list():\n",
    "    def __init__(self,value):\n",
    "        self.value=value\n",
    "        self.ptr=None\n",
    "    \n",
    "class queue(linked_list):\n",
    "    def __init__(self):\n",
    "        self.head=linked_list(None)\n",
    "        self.tail=self.head\n",
    "        \n",
    "    def enqueue(self,new_value):\n",
    "        \n",
    "        temp=linked_list(new_value)\n",
    "        self.tail.ptr=temp\n",
    "        self.tail=temp\n",
    "        print (\"Temp V:\",temp.value)\n",
    "        if self.head.value==None:\n",
    "            self.head=temp\n",
    "            print (\"here\")\n",
    "        del temp\n",
    "        \n",
    "    def dequeue(self):\n",
    "        temp=self.head\n",
    "        self.head=self.head.ptr\n",
    "        del temp\n",
    "        \n",
    "    def peek(self):\n",
    "        #print(\"Top value is :\", self.top.value)\n",
    "        return self.head.value\n",
    "    \n",
    "    def printall(self):\n",
    "        temp=self.head\n",
    "        count=0\n",
    "        while temp!=None:\n",
    "            print(temp.value,\" \",)\n",
    "            count+=1\n",
    "            temp=temp.ptr\n",
    "        print(\"Total No of items is:\", count)"
   ]
  },
  {
   "cell_type": "code",
   "execution_count": 2,
   "metadata": {},
   "outputs": [
    {
     "name": "stdout",
     "output_type": "stream",
     "text": [
      "Temp V: 0\n",
      "here\n",
      "Temp V: 1\n",
      "Temp V: 2\n",
      "Temp V: 3\n",
      "Temp V: 4\n"
     ]
    }
   ],
   "source": [
    "new_stack=queue()\n",
    "for i in range(5):\n",
    "    new_stack.enqueue(i)"
   ]
  },
  {
   "cell_type": "code",
   "execution_count": 3,
   "metadata": {},
   "outputs": [
    {
     "name": "stdout",
     "output_type": "stream",
     "text": [
      "0\n"
     ]
    }
   ],
   "source": [
    "print(new_stack.peek())"
   ]
  },
  {
   "cell_type": "code",
   "execution_count": 4,
   "metadata": {},
   "outputs": [
    {
     "data": {
      "text/plain": [
       "1"
      ]
     },
     "execution_count": 4,
     "metadata": {},
     "output_type": "execute_result"
    }
   ],
   "source": [
    "new_stack.dequeue()\n",
    "new_stack.peek()"
   ]
  },
  {
   "cell_type": "code",
   "execution_count": 5,
   "metadata": {},
   "outputs": [
    {
     "name": "stdout",
     "output_type": "stream",
     "text": [
      "1  \n",
      "2  \n",
      "3  \n",
      "4  \n",
      "Total No of items is: 4\n"
     ]
    }
   ],
   "source": [
    "new_stack.printall()"
   ]
  },
  {
   "cell_type": "code",
   "execution_count": 6,
   "metadata": {},
   "outputs": [
    {
     "name": "stdout",
     "output_type": "stream",
     "text": [
      "Temp V: 7\n"
     ]
    }
   ],
   "source": [
    "new_stack.enqueue(7)"
   ]
  },
  {
   "cell_type": "code",
   "execution_count": 7,
   "metadata": {},
   "outputs": [
    {
     "name": "stdout",
     "output_type": "stream",
     "text": [
      "1  \n",
      "2  \n",
      "3  \n",
      "4  \n",
      "7  \n",
      "Total No of items is: 5\n"
     ]
    }
   ],
   "source": [
    "new_stack.printall()"
   ]
  },
  {
   "cell_type": "code",
   "execution_count": null,
   "metadata": {
    "collapsed": true
   },
   "outputs": [],
   "source": []
  }
 ],
 "metadata": {
  "kernelspec": {
   "display_name": "Python 3",
   "language": "python",
   "name": "python3"
  },
  "language_info": {
   "codemirror_mode": {
    "name": "ipython",
    "version": 3
   },
   "file_extension": ".py",
   "mimetype": "text/x-python",
   "name": "python",
   "nbconvert_exporter": "python",
   "pygments_lexer": "ipython3",
   "version": "3.6.1"
  }
 },
 "nbformat": 4,
 "nbformat_minor": 2
}
