{
 "cells": [
  {
   "cell_type": "markdown",
   "metadata": {},
   "source": [
    "## Fenwick Tree"
   ]
  },
  {
   "cell_type": "code",
   "execution_count": null,
   "metadata": {
    "collapsed": true
   },
   "outputs": [],
   "source": [
    "# Fenwick Tree. - Prefix Sum [i,j)-Done, Range Queries-Done, Point Updates-Done, Contruction-Done"
   ]
  },
  {
   "cell_type": "code",
   "execution_count": 1,
   "metadata": {
    "collapsed": true
   },
   "outputs": [],
   "source": [
    "from math import log,pow"
   ]
  },
  {
   "cell_type": "code",
   "execution_count": 55,
   "metadata": {
    "collapsed": true
   },
   "outputs": [],
   "source": [
    "# index starts at 1 to 2^N\n",
    "\n",
    "class fenwick_tree:\n",
    "    def __init__(self):\n",
    "        self.size=int(pow(2,int(input(\"Enter the size n in 2^n elements:\"))))\n",
    "#         self.tree=[0 for i in range(self.size)]\n",
    "        self.index=[i for i in range(1,self.size+1)]\n",
    "        self.values=[1, 1, 1, 1, 1, 1, 1, 1, 1, 1, 1, 1,1, 1, 1, 1]\n",
    "        self.tree_ps=[0 for i in range(self.size)]\n",
    "        \n",
    "        \n",
    "    def construct(self):\n",
    "        # Update Immediate parent j=i+lsb(i)\n",
    "        for i in self.index:\n",
    "            self.tree_ps[i-1]=self.values[i-1]+self.tree_ps[i-1]\n",
    "            j=i+self.lsb(i)\n",
    "            if j<=self.size:\n",
    "                self.tree_ps[j-1]+=self.tree_ps[i-1]\n",
    "        \n",
    "    def prefix_sum(self,i):\n",
    "        total=0\n",
    "        prnt=str()\n",
    "        while i!=0:\n",
    "            total=total+self.tree_ps[i-1]\n",
    "#             prnt=prnt+\"+\"+\"A[\"+str(i)+\"]\"\n",
    "            i=i-self.lsb(i)\n",
    "#         print(prnt)\n",
    "        return total\n",
    "        \n",
    "    def lsb(self,index):\n",
    "        b=\"{0:b}\".format(index)\n",
    "        for j in range(1,len(b)+1):\n",
    "            if b[-j]=='1':\n",
    "                lsbj=int(pow(2,j-1))\n",
    "                print(\"Lsb of index \", index,\" is \",lsbj )\n",
    "                return lsbj\n",
    "\n",
    "    def range_query(self):\n",
    "        inp=input(\"Enter from_index <space> to_index for range query: \")\n",
    "        rq=[]\n",
    "        for char in inp:\n",
    "            if char==' ':\n",
    "                continue\n",
    "            else:\n",
    "                rq.append(int(char))\n",
    "        return self.prefix_sum(rq[1])-self.prefix_sum(rq[0]-1)\n",
    "    \n",
    "    def update(self):\n",
    "        # Take new X value that is added to fenwick tree and index\n",
    "        # Update all impacted indexes using j=j+lsb\n",
    "        \n",
    "        index=int(input(\"Enter Index of Fenwick Tree that needs updating of format[1-2^n]: \"))\n",
    "        val=int(input(\"Enter value that needs to be added: \"))\n",
    "        j=index\n",
    "        while j<=self.size:\n",
    "            self.tree_ps[j-1]=val+self.tree_ps[j-1]\n",
    "            j=j+self.lsb(j)"
   ]
  },
  {
   "cell_type": "code",
   "execution_count": 56,
   "metadata": {},
   "outputs": [
    {
     "name": "stdout",
     "output_type": "stream",
     "text": [
      "Enter the size n in 2^n elements:4\n"
     ]
    }
   ],
   "source": [
    "ft=fenwick_tree()"
   ]
  },
  {
   "cell_type": "code",
   "execution_count": 57,
   "metadata": {},
   "outputs": [
    {
     "name": "stdout",
     "output_type": "stream",
     "text": [
      "Lsb of index  1  is  1\n",
      "Lsb of index  2  is  2\n",
      "Lsb of index  3  is  1\n",
      "Lsb of index  4  is  4\n",
      "Lsb of index  5  is  1\n",
      "Lsb of index  6  is  2\n",
      "Lsb of index  7  is  1\n",
      "Lsb of index  8  is  8\n",
      "Lsb of index  9  is  1\n",
      "Lsb of index  10  is  2\n",
      "Lsb of index  11  is  1\n",
      "Lsb of index  12  is  4\n",
      "Lsb of index  13  is  1\n",
      "Lsb of index  14  is  2\n",
      "Lsb of index  15  is  1\n",
      "Lsb of index  16  is  16\n"
     ]
    }
   ],
   "source": [
    "ft.construct()"
   ]
  },
  {
   "cell_type": "code",
   "execution_count": 60,
   "metadata": {},
   "outputs": [
    {
     "data": {
      "text/plain": [
       "[1, 4, 1, 6, 1, 2, 1, 10, 1, 2, 1, 4, 1, 2, 1, 18]"
      ]
     },
     "execution_count": 60,
     "metadata": {},
     "output_type": "execute_result"
    }
   ],
   "source": [
    "ft.tree_ps"
   ]
  },
  {
   "cell_type": "code",
   "execution_count": 47,
   "metadata": {},
   "outputs": [
    {
     "name": "stdout",
     "output_type": "stream",
     "text": [
      "Enter from_index <space> to_index for range query: 3 6\n"
     ]
    },
    {
     "data": {
      "text/plain": [
       "4"
      ]
     },
     "execution_count": 47,
     "metadata": {},
     "output_type": "execute_result"
    }
   ],
   "source": [
    "ft.range_query()"
   ]
  },
  {
   "cell_type": "code",
   "execution_count": 27,
   "metadata": {},
   "outputs": [
    {
     "name": "stdout",
     "output_type": "stream",
     "text": [
      "prefix sum of  0  is  0\n",
      "prefix sum of  1  is  1\n",
      "prefix sum of  2  is  2\n",
      "prefix sum of  3  is  3\n",
      "prefix sum of  4  is  4\n",
      "prefix sum of  5  is  5\n",
      "prefix sum of  6  is  6\n",
      "prefix sum of  7  is  7\n",
      "prefix sum of  8  is  8\n",
      "prefix sum of  9  is  9\n",
      "prefix sum of  10  is  10\n",
      "prefix sum of  11  is  11\n",
      "prefix sum of  12  is  12\n",
      "prefix sum of  13  is  13\n",
      "prefix sum of  14  is  14\n",
      "prefix sum of  15  is  15\n"
     ]
    }
   ],
   "source": [
    "for i in range(16):\n",
    "    print(\"prefix sum of \",i, \" is \", ft.prefix_sum(i))"
   ]
  },
  {
   "cell_type": "code",
   "execution_count": 59,
   "metadata": {},
   "outputs": [
    {
     "name": "stdout",
     "output_type": "stream",
     "text": [
      "Enter Index of Fenwick Tree that needs updating of format[1-2^n]: 2\n",
      "Enter value that needs to be added: 2\n",
      "Lsb of index  2  is  2\n",
      "Lsb of index  4  is  4\n",
      "Lsb of index  8  is  8\n",
      "Lsb of index  16  is  16\n"
     ]
    }
   ],
   "source": [
    "ft.update()"
   ]
  },
  {
   "cell_type": "code",
   "execution_count": null,
   "metadata": {
    "collapsed": true
   },
   "outputs": [],
   "source": []
  }
 ],
 "metadata": {
  "kernelspec": {
   "display_name": "Python 3",
   "language": "python",
   "name": "python3"
  },
  "language_info": {
   "codemirror_mode": {
    "name": "ipython",
    "version": 3
   },
   "file_extension": ".py",
   "mimetype": "text/x-python",
   "name": "python",
   "nbconvert_exporter": "python",
   "pygments_lexer": "ipython3",
   "version": "3.6.1"
  }
 },
 "nbformat": 4,
 "nbformat_minor": 2
}
