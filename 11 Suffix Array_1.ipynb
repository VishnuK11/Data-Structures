{
 "cells": [
  {
   "cell_type": "markdown",
   "metadata": {},
   "source": [
    "# Suffix Array"
   ]
  },
  {
   "cell_type": "code",
   "execution_count": null,
   "metadata": {
    "collapsed": true
   },
   "outputs": [],
   "source": [
    "# Open kattis substring problems\n",
    "# IF the 3 main substrings are not adjacent, need to add a large window until exactly k suffixes are present. \n",
    "# Need to add this feature"
   ]
  },
  {
   "cell_type": "code",
   "execution_count": 1,
   "metadata": {
    "collapsed": true
   },
   "outputs": [],
   "source": [
    "class suffix_array:\n",
    "    def __init__(self,intake):\n",
    "        #self.full_string=input(\"Enter String: \")\n",
    "        self.full_string=intake\n",
    "        self.size=len(self.full_string)\n",
    "        self.suffix_all()\n",
    "        \n",
    "    def suffix_all(self):\n",
    "        self.suffixes=[]\n",
    "        self.length=[]\n",
    "        self.sorted_suffixes=[]\n",
    "        for ind in range(-1,-self.size-1,-1):\n",
    "            self.suffixes.append(self.full_string[ind:(self.size)].lower())\n",
    "        self.suffixes.sort()\n",
    "        for i in range(self.size):\n",
    "            self.length.append(len(self.suffixes[i]))\n",
    "        self.sorted_suffixes=[self.suffixes,self.length]\n",
    "        \n",
    "        self.lcp_all()\n",
    "#         print(\"Sorted Suffixes:\",self.sorted_suffixes)\n",
    "#         print(\"LCP:\",self.lcp)\n",
    "        \n",
    "    def lcp_all(self):\n",
    "        self.lcp=[0]\n",
    "        count=0\n",
    "        for row in range(self.size-1):\n",
    "            count=0\n",
    "            word1=self.sorted_suffixes[0][row]\n",
    "            word2=self.sorted_suffixes[0][row+1]\n",
    "            while count<len(word1) and count<len(word2) and word1[count]==word2[count]:\n",
    "                count+=1\n",
    "            self.lcp.append(count)\n",
    "#         print(\"LCP:\",lcp)"
   ]
  },
  {
   "cell_type": "code",
   "execution_count": 21,
   "metadata": {
    "collapsed": true
   },
   "outputs": [],
   "source": [
    "class common_substring(suffix_array):\n",
    "    def __init__(self):\n",
    "        self.individual=[]\n",
    "        self.combined=[]\n",
    "        self.special='#$%'\n",
    "        print(\"Enter 3 strings\")\n",
    "        for i in range(3):\n",
    "            self.individual.append(str(input(\"Enter Here: \")))\n",
    "            self.combined+=self.individual[i]+self.special[i]\n",
    "        self.combined=''.join(self.combined)\n",
    "        print(self.combined)\n",
    "        self.sa=suffix_array(self.combined)\n",
    "        \n",
    "    def search_k_string(self,window_size):\n",
    "        max_length=[0]\n",
    "        max_string=['']\n",
    "        for i in range(3,self.sa.size-window_size+1):\n",
    "            flex_window=window_size\n",
    "            found=False\n",
    "            while !found and flex_window+i<=self.sa.size:\n",
    "            window=self.sa.sorted_suffixes[0][i:i+flex_window]\n",
    "            window_lcp=self.sa.lcp[i:i+flex_window]\n",
    "            style=[]\n",
    "#             print(\"Window\",window)\n",
    "            for line in window:\n",
    "                count=0\n",
    "#                 print(\"Line:\",line)\n",
    "                \n",
    "                if '#' in line:\n",
    "                    count+=1\n",
    "                if '$' in line:\n",
    "                    count+=1\n",
    "                if '%' in line:\n",
    "                    count+=1\n",
    "                style.append(count)\n",
    "            if len(set(style))==window_size:\n",
    "                if len(set(window_lcp[1:]))==1 and window_lcp[1]!=0:\n",
    "                    max_length.append(window_lcp[1])\n",
    "                    max_string.append(window[1][:window_lcp[1]])\n",
    "        print(\"common substring of length \",max_length,\" is \",max_string)\n",
    "        print(\"Longest substring of length \",max(max_length),\" is \",max_string[max_length.index(max(max_length))])\n",
    "        "
   ]
  },
  {
   "cell_type": "code",
   "execution_count": 22,
   "metadata": {},
   "outputs": [
    {
     "name": "stdout",
     "output_type": "stream",
     "text": [
      "Enter 3 strings\n",
      "Enter Here: abc\n",
      "Enter Here: bcad\n",
      "Enter Here: exabcdef\n",
      "abc#bcad$exabcdef%\n"
     ]
    }
   ],
   "source": [
    "cs=common_substring()"
   ]
  },
  {
   "cell_type": "code",
   "execution_count": null,
   "metadata": {
    "collapsed": true
   },
   "outputs": [],
   "source": [
    "# Number of unique substrings is : n(n+1)/2 - Sum of lCPs\n",
    "# A substring that is common in K of N strings"
   ]
  },
  {
   "cell_type": "code",
   "execution_count": 24,
   "metadata": {},
   "outputs": [
    {
     "name": "stdout",
     "output_type": "stream",
     "text": [
      "common substring of length  [0, 2, 1]  is  ['', 'bc', 'c']\n",
      "Longest substring of length  2  is  bc\n"
     ]
    }
   ],
   "source": [
    "cs.search_k_string(3)"
   ]
  },
  {
   "cell_type": "code",
   "execution_count": null,
   "metadata": {
    "collapsed": true
   },
   "outputs": [],
   "source": [
    "cs.combined"
   ]
  },
  {
   "cell_type": "code",
   "execution_count": null,
   "metadata": {
    "collapsed": true
   },
   "outputs": [],
   "source": [
    "sa=suffix_array()\n",
    "sa.sorted_suffixes[0]\n",
    "sa.lcp_all()\n",
    "sa.lcp"
   ]
  },
  {
   "cell_type": "code",
   "execution_count": 20,
   "metadata": {},
   "outputs": [
    {
     "data": {
      "text/plain": [
       "4"
      ]
     },
     "execution_count": 20,
     "metadata": {},
     "output_type": "execute_result"
    }
   ],
   "source": [
    "a=[1,2,3,4,5]\n",
    "a.index(max(a))"
   ]
  }
 ],
 "metadata": {
  "kernelspec": {
   "display_name": "Python 3",
   "language": "python",
   "name": "python3"
  },
  "language_info": {
   "codemirror_mode": {
    "name": "ipython",
    "version": 3
   },
   "file_extension": ".py",
   "mimetype": "text/x-python",
   "name": "python",
   "nbconvert_exporter": "python",
   "pygments_lexer": "ipython3",
   "version": "3.6.1"
  }
 },
 "nbformat": 4,
 "nbformat_minor": 2
}
