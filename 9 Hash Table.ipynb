{
 "cells": [
  {
   "cell_type": "markdown",
   "metadata": {},
   "source": [
    "## Hashing "
   ]
  },
  {
   "cell_type": "code",
   "execution_count": 1,
   "metadata": {
    "collapsed": true
   },
   "outputs": [],
   "source": [
    "#TO DO: \n",
    "# Add threshold and tree size doubling and copy\n",
    "# Tree threshold is added. Open addressing and Separate chaining implemented\n",
    "# Check for double hash"
   ]
  },
  {
   "cell_type": "code",
   "execution_count": 2,
   "metadata": {
    "collapsed": true
   },
   "outputs": [],
   "source": [
    "class node:\n",
    "    def __init__(self,num,name):\n",
    "        self.number=num\n",
    "        self.name=name\n",
    "        self.child=None\n",
    "    \n",
    "class hashtable(node):\n",
    "    def __init__(self,n):\n",
    "        self.table=[]\n",
    "        for i in range(n):    \n",
    "            self.table.append([i,None])\n",
    "        self.capacity=n\n",
    "        self.quantity=0\n",
    "        self.MaxUtilPer=0.4\n",
    "        self.threshold=int(self.MaxUtilPer*self.capacity)\n",
    "        self.conflict='OA' #'SC'\n",
    "        \n",
    "    def gethashkey(self,value):\n",
    "        #H(x)=x^+2x+6 mod n\n",
    "        h_x=(value*value+2*value+6)%self.capacity\n",
    "        print(\"Hash for \",value,\" is \",h_x)\n",
    "        return h_x\n",
    "    \n",
    "    def add(self,num,name):\n",
    "        #Compute Hash Key, Insert Hash or report error\n",
    "        new_node=node(num,name)\n",
    "        key=int(self.gethashkey(new_node.number))\n",
    "        if (self.quantity+1)>self.threshold:\n",
    "            self.tree_expand()\n",
    "            \n",
    "        if self.table[key][1]==None:\n",
    "            self.table[key][1]=new_node\n",
    "            print(\"New data added.\")\n",
    "            self.quantity+=1\n",
    "        \n",
    "        else:\n",
    "            print(\"Data exits. Index occupied.\")\n",
    "            if self.conflict=='SC':\n",
    "                print(\"Performing Separate chaining:\")\n",
    "                if self.separate_chaining(key,new_node):\n",
    "                    self.quantity+=1\n",
    "            \n",
    "            elif self.conflict=='OA':\n",
    "                print(\"Performing Open Addressing:\")\n",
    "                if self.open_addressing(new_node):\n",
    "                    self.quantity+=1\n",
    "           \n",
    "            \n",
    "    def remove(self,num,name):\n",
    "        #Compute Hash Key, Remove entry or report error\n",
    "        key=int(self.gethashkey(num))\n",
    "        traverse_node=self.table[key][1]\n",
    "        prev_node=None\n",
    "        while traverse_node!=None and traverse_node.name!=name:\n",
    "            prev_node=traverse_node\n",
    "            traverse_node=traverse_node.child\n",
    "            \n",
    "        if traverse_node.name==name:\n",
    "            if prev_node!=None:\n",
    "                prev_node.child=traverse_node.child\n",
    "            else:\n",
    "                self.table[key][1]=traverse_node.child\n",
    "            del traverse_node\n",
    "            del prev_node\n",
    "            print(\"Data exits. Data Removed\")\n",
    "        elif traverse_node==None or traverse_node.name!=name:\n",
    "            print(\"Data not found. Remove failed.\")\n",
    "        \n",
    "    def separate_chaining(self,key, new_node):\n",
    "        traverse_node=self.table[key][1]\n",
    "        found=False\n",
    "        while traverse_node.child!=None:\n",
    "            traverse_node=traverse_node.child\n",
    "            if traverse_node.name==new_node.name:\n",
    "                found=True\n",
    "        if found:\n",
    "            print(\"Duplicate found. Not adding node\")\n",
    "            return False\n",
    "        else:\n",
    "            traverse_node.child=new_node\n",
    "            return True\n",
    "        \n",
    "    def p_x(self,x, style):\n",
    "        if style==1: # Linear Probing Sequencing\n",
    "            return 5*x \n",
    "        elif style==2: # Quadratic Probing \n",
    "            return 2*x*x+3*x \n",
    "        elif style==3:# Double Hash\n",
    "            return 0\n",
    "    \n",
    "    def open_addressing(self,new_node):\n",
    "        \n",
    "        x_index=0\n",
    "        h_x=int(self.gethashkey(new_node.number))\n",
    "        key=(h_x+self.p_x(x_index,1))%self.capacity\n",
    "        while self.table[key][1]!=None and x_index<10: \n",
    "            x_index+=1\n",
    "            #                                   #\n",
    "            # Enter Probing Sequence Style Here #\n",
    "            #                                   #\n",
    "            key=(h_x+self.p_x(x_index,1))%self.capacity \n",
    "        if x_index>=10:\n",
    "            print(\"Index overshoot. Data addition cancelled\")\n",
    "            return False\n",
    "        else:\n",
    "            self.table[key][1]=new_node\n",
    "            return True\n",
    "        \n",
    "    def tree_expand(self):\n",
    "        old_table=self.table\n",
    "        self.capacity=2*self.capacity\n",
    "        self.threshold=int(self.MaxUtilPer*self.capacity)\n",
    "        print(\"Adding new table\")\n",
    "        for i in range(self.capacity):    \n",
    "            self.table.append([i,None])\n",
    "        for i in range(int(self.capacity/2)):\n",
    "            if old_table[i][1]!=None:\n",
    "                new_node=self.table[i][1]\n",
    "                key=int(self.gethashkey(new_node.number))\n",
    "                new_table[key][1]=new_node\n",
    "                print(\"New data moved.\")\n",
    "            else:\n",
    "                print(\"Data exits. Index occupied.\")\n",
    "                \n",
    "                if self.conflict=='SC':\n",
    "                    print(\"Performing Separate chaining:\")\n",
    "                    self.separate_chaining(key,new_node)\n",
    "                elif self.conflict=='OA':\n",
    "                    print(\"Performing Open Addressing:\")\n",
    "                    self.open_addressing(new_node)\n",
    "        print(\"All Data Moved. Old Data is:\")\n",
    "        printall()\n",
    "        self.table=new_table\n",
    "        print(\"New Data is:\")\n",
    "        printall()\n",
    "    \n",
    "    def printall(self):\n",
    "        print(\"Key \",\"\\tRank \",\"\\tName\")\n",
    "        for i in range(self.capacity):\n",
    "            temp_node=self.table[i][1]\n",
    "            if temp_node==None:\n",
    "                print(self.table[i][0],\"\\t  -  \",\"\\t  -  \")\n",
    "            else:\n",
    "                print(self.table[i][0],\"\\t\",temp_node.number,\"\\t\",temp_node.name,end=\" \")\n",
    "                while temp_node.child!=None:\n",
    "                    print(\"-->\",end=\" \")\n",
    "                    temp_node=temp_node.child\n",
    "                    print(self.table[i][0],\"\\t\",temp_node.number,\"\\t\",temp_node.name, end=\" \")\n",
    "            print()"
   ]
  },
  {
   "cell_type": "code",
   "execution_count": 3,
   "metadata": {
    "collapsed": true
   },
   "outputs": [],
   "source": [
    "newhash=hashtable(10)"
   ]
  },
  {
   "cell_type": "code",
   "execution_count": 4,
   "metadata": {},
   "outputs": [
    {
     "name": "stdout",
     "output_type": "stream",
     "text": [
      "Hash for  2  is  4\n",
      "New data added.\n",
      "Hash for  3  is  1\n",
      "New data added.\n",
      "Hash for  4  is  0\n",
      "New data added.\n",
      "Hash for  1  is  9\n",
      "New data added.\n"
     ]
    }
   ],
   "source": [
    "newhash.add(2,'Reyansh')\n",
    "newhash.add(3,'Vishnu')\n",
    "newhash.add(4,'Jittu')\n",
    "newhash.add(1,'Pri')"
   ]
  },
  {
   "cell_type": "code",
   "execution_count": null,
   "metadata": {},
   "outputs": [],
   "source": [
    "newhash.add(1,'John')"
   ]
  },
  {
   "cell_type": "code",
   "execution_count": null,
   "metadata": {
    "collapsed": true
   },
   "outputs": [],
   "source": [
    "newhash.remove(1, 'Pri')"
   ]
  },
  {
   "cell_type": "code",
   "execution_count": null,
   "metadata": {
    "collapsed": true
   },
   "outputs": [],
   "source": [
    "newhash.printall()"
   ]
  },
  {
   "cell_type": "code",
   "execution_count": null,
   "metadata": {
    "collapsed": true
   },
   "outputs": [],
   "source": [
    "newhash.table[9][1].child"
   ]
  },
  {
   "cell_type": "code",
   "execution_count": 16,
   "metadata": {},
   "outputs": [
    {
     "data": {
      "text/plain": [
       "[3, 4, 5]"
      ]
     },
     "execution_count": 16,
     "metadata": {},
     "output_type": "execute_result"
    }
   ],
   "source": [
    "a=[1,2,3,4,5]\n",
    "b=[1,2]\n",
    "c=[3,4,5]\n",
    "b=a\n",
    "a=c\n",
    "a"
   ]
  },
  {
   "cell_type": "code",
   "execution_count": null,
   "metadata": {
    "collapsed": true
   },
   "outputs": [],
   "source": []
  }
 ],
 "metadata": {
  "kernelspec": {
   "display_name": "Python 3",
   "language": "python",
   "name": "python3"
  },
  "language_info": {
   "codemirror_mode": {
    "name": "ipython",
    "version": 3
   },
   "file_extension": ".py",
   "mimetype": "text/x-python",
   "name": "python",
   "nbconvert_exporter": "python",
   "pygments_lexer": "ipython3",
   "version": "3.6.1"
  }
 },
 "nbformat": 4,
 "nbformat_minor": 2
}
