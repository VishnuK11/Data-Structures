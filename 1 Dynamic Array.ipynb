{
 "cells": [
  {
   "cell_type": "markdown",
   "metadata": {},
   "source": [
    "# Dynamic Array"
   ]
  },
  {
   "cell_type": "markdown",
   "metadata": {},
   "source": [
    "Create a dynamic array whose size start with zero and increments 2^n as it reaches capacity."
   ]
  },
  {
   "cell_type": "code",
   "execution_count": 2,
   "metadata": {
    "collapsed": true
   },
   "outputs": [],
   "source": [
    "class dyn_arr():\n",
    "        \n",
    "    def __init__(self):\n",
    "        self.data = [None]*2\n",
    "        self.capacity=len(self.data)        \n",
    "        self.last=0  # Index of last. \n",
    "        \n",
    "    def add_num(self, number):\n",
    "        if (self.last+1)>=self.capacity:\n",
    "            self.data.extend([None]*self.capacity)\n",
    "            self.capacity=len(self.data)        \n",
    "        \n",
    "        # Corner case. When array is empty,it points to None.Every other time it points to the last index.\n",
    "        if self.data[self.last]==None:\n",
    "            self.data[self.last]=number\n",
    "            \n",
    "        else:\n",
    "            self.last+=1\n",
    "            self.data[self.last]=number\n",
    "        # We add new None slots only when a new number is appended"
   ]
  },
  {
   "cell_type": "code",
   "execution_count": 3,
   "metadata": {},
   "outputs": [
    {
     "name": "stdout",
     "output_type": "stream",
     "text": [
      "[None, None]\n",
      "[0, None]\n",
      "[0, 2]\n",
      "[0, 2, 4, None]\n",
      "[0, 2, 4, 6]\n",
      "[0, 2, 4, 6, 8, None, None, None]\n",
      "[0, 2, 4, 6, 8, 10, None, None]\n",
      "[0, 2, 4, 6, 8, 10, 12, None]\n",
      "[0, 2, 4, 6, 8, 10, 12, 14]\n",
      "[0, 2, 4, 6, 8, 10, 12, 14, 16, None, None, None, None, None, None, None]\n"
     ]
    }
   ],
   "source": [
    "sample = dyn_arr()\n",
    "print(sample.data)\n",
    "\n",
    "for i in range(9):\n",
    "    sample.add_num(i*2)\n",
    "    print(sample.data)"
   ]
  }
 ],
 "metadata": {
  "kernelspec": {
   "display_name": "Python 3",
   "language": "python",
   "name": "python3"
  },
  "language_info": {
   "codemirror_mode": {
    "name": "ipython",
    "version": 3
   },
   "file_extension": ".py",
   "mimetype": "text/x-python",
   "name": "python",
   "nbconvert_exporter": "python",
   "pygments_lexer": "ipython3",
   "version": "3.6.1"
  }
 },
 "nbformat": 4,
 "nbformat_minor": 2
}
