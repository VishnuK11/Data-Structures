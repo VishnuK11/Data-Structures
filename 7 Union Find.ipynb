{
 "cells": [
  {
   "cell_type": "markdown",
   "metadata": {},
   "source": [
    "## Union Find"
   ]
  },
  {
   "cell_type": "code",
   "execution_count": 5,
   "metadata": {
    "collapsed": true
   },
   "outputs": [],
   "source": [
    "# Union Find"
   ]
  },
  {
   "cell_type": "markdown",
   "metadata": {
    "collapsed": true
   },
   "source": [
    "# class union_find:\n",
    "    def __init__(self,length):\n",
    "        self.ids=tuple(j for j in range(length))\n",
    "        self.parent=list(j for j in range(length))\n",
    "        self.root=list(j for j in range(length))\n",
    "        self.elements=list(0 for j in range(length))\n",
    "        self.printall()\n",
    "        \n",
    "    def union(self,p,q):\n",
    "        #Find root of P and Q\n",
    "        root_p=self.getroot(p)\n",
    "        root_q=self.getroot(q)\n",
    "                \n",
    "        #Find n elements of p root and q root\n",
    "        np=self.elements[root_p]\n",
    "        nq=self.elements[root_q]\n",
    "        \n",
    "        # Assign Parent\n",
    "        if np>=nq:\n",
    "            self.parent[root_q]=self.ids[root_p]\n",
    "            # Reassign all group numbers\n",
    "            count=0\n",
    "            for idd in range(len(self.ids)):\n",
    "                if self.root[idd]==root_q:\n",
    "                    self.root[idd]=root_p\n",
    "                    count+=1\n",
    "            # Change number of elements of that group\n",
    "            self.elements[root_p]+=count\n",
    "            self.elements[root_q]=0\n",
    "            # Delete void groups/old groups.\n",
    "            \n",
    "        if np<nq:\n",
    "            self.parent[root_p]=self.ids[root_q]\n",
    "            # Reassign all group numbers\n",
    "            count=0\n",
    "            for idd in range(len(self.ids)):\n",
    "                if self.root[idd]==root_p:\n",
    "                    self.root[idd]=root_q\n",
    "                    count+=1\n",
    "            # Change number of elements of that group\n",
    "            self.elements[root_q]+=count\n",
    "            self.elements[root_p]=0\n",
    "            # Delete void groups/old groups.\n",
    "            \n",
    "        return None\n",
    "    \n",
    "    def getroot(self,p):\n",
    "        cp=p # Qurrent P\n",
    "        pcp=self.parent[cp]\n",
    "        while cp!=pcp:\n",
    "            cp=pcp\n",
    "            pcp=self.parent[cp]\n",
    "            \n",
    "        root_p=cp\n",
    "        \n",
    "        del cp, pcp\n",
    "        return root_p\n",
    "    \n",
    "    def compress(self):\n",
    "        for i in range(len(self.ids)):\n",
    "            if self.getroot(i)!=self.parent[i]:\n",
    "                self.parent[i]=self.root[i]\n",
    "                \n",
    "        return None\n",
    "    \n",
    "    def printall(self):\n",
    "        print(\"IDs\", \"\\tParent\",\"\\tRoot\",\"\\tElements\")\n",
    "        for i in range(len(self.ids)):\n",
    "            print(self.ids[i],\"\\t\", self.parent[i], \"\\t\",self.root[i],\"\\t\",self.elements[i])\n",
    "        "
   ]
  },
  {
   "cell_type": "code",
   "execution_count": 110,
   "metadata": {},
   "outputs": [
    {
     "name": "stdout",
     "output_type": "stream",
     "text": [
      "IDs \tParent \tRoot \tElements\n",
      "0 \t 0 \t 0 \t 0\n",
      "1 \t 1 \t 1 \t 0\n",
      "2 \t 2 \t 2 \t 0\n",
      "3 \t 3 \t 3 \t 0\n",
      "4 \t 4 \t 4 \t 0\n"
     ]
    }
   ],
   "source": [
    "uf=union_find(5)"
   ]
  },
  {
   "cell_type": "code",
   "execution_count": 117,
   "metadata": {
    "collapsed": true
   },
   "outputs": [],
   "source": [
    "uf.union(4,1)"
   ]
  },
  {
   "cell_type": "code",
   "execution_count": 120,
   "metadata": {},
   "outputs": [
    {
     "name": "stdout",
     "output_type": "stream",
     "text": [
      "IDs \tParent \tRoot \tElements\n",
      "0 \t 0 \t 0 \t 0\n",
      "1 \t 4 \t 4 \t 0\n",
      "2 \t 4 \t 4 \t 0\n",
      "3 \t 4 \t 4 \t 0\n",
      "4 \t 4 \t 4 \t 3\n"
     ]
    }
   ],
   "source": [
    "uf.printall()"
   ]
  },
  {
   "cell_type": "code",
   "execution_count": 119,
   "metadata": {
    "collapsed": true
   },
   "outputs": [],
   "source": [
    "uf.compress()"
   ]
  },
  {
   "cell_type": "code",
   "execution_count": null,
   "metadata": {
    "collapsed": true
   },
   "outputs": [],
   "source": [
    "# Minimal Spanning Tree Krushkal Algorithm"
   ]
  }
 ],
 "metadata": {
  "kernelspec": {
   "display_name": "Python 3",
   "language": "python",
   "name": "python3"
  },
  "language_info": {
   "codemirror_mode": {
    "name": "ipython",
    "version": 3
   },
   "file_extension": ".py",
   "mimetype": "text/x-python",
   "name": "python",
   "nbconvert_exporter": "python",
   "pygments_lexer": "ipython3",
   "version": "3.6.1"
  }
 },
 "nbformat": 4,
 "nbformat_minor": 2
}
