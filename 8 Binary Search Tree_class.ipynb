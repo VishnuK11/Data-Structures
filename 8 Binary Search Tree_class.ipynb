{
 "cells": [
  {
   "cell_type": "markdown",
   "metadata": {},
   "source": [
    "# Binary Search Tree - Class"
   ]
  },
  {
   "cell_type": "code",
   "execution_count": 9,
   "metadata": {
    "collapsed": true
   },
   "outputs": [],
   "source": [
    "from math import pow,log \n",
    "import random"
   ]
  },
  {
   "cell_type": "code",
   "execution_count": 2,
   "metadata": {
    "collapsed": true
   },
   "outputs": [],
   "source": [
    "# Need to do BFS and print alignment that looks like a tree"
   ]
  },
  {
   "cell_type": "code",
   "execution_count": 28,
   "metadata": {
    "collapsed": true
   },
   "outputs": [],
   "source": [
    "class node:\n",
    "    def __init__(self,val,parent):\n",
    "        self.value=val\n",
    "        self.left=None\n",
    "        self.right=None\n",
    "        self.parent=parent\n",
    "        \n",
    "        \n",
    "    def printall(self):\n",
    "#         \"\\033[A\" Move cursor one line up\n",
    "        binary=0\n",
    "        count=0\n",
    "#         self.space=space\n",
    "        if self.value!=None: #or Current!=None\n",
    "            if self.left!=None:\n",
    "                self.left.printall()\n",
    "            print(self.value,\" \", end =\"\")\n",
    "            if self.right!=None:\n",
    "                self.right.printall()\n",
    "            \n",
    "    \n",
    "    # Root node is when Val is none? \n",
    "    # Leaf node is when left and right are none?\n",
    "    \n",
    "class bst(node):\n",
    "    # Adding\n",
    "    # Removing\n",
    "    # Printing\n",
    "    # Traversing\n",
    "    # Level order or BFS print\n",
    "    \n",
    "    def __init__(self):\n",
    "        self.root=None\n",
    "        self.capacity=0 # starts with 1\n",
    "        \n",
    "    def add(self,add_value):\n",
    "        current=self.root\n",
    "        prev=None\n",
    "        nxt=0\n",
    "        # Find Slot\n",
    "        if current==None: # Check root\n",
    "            current=node(add_value,None)\n",
    "            self.root=current\n",
    "            self.capacity+=1\n",
    "            print(\"Adding root\")\n",
    "        else:\n",
    "            print(\"Adding elements\")\n",
    "            while current!=None:\n",
    "                if add_value<current.value:\n",
    "                    prev=current\n",
    "                    current=current.left\n",
    "                    nxt=1\n",
    "                elif add_value>current.value:\n",
    "                    prev=current\n",
    "                    current=current.right\n",
    "                    nxt=2\n",
    "                elif add_value==current.value:\n",
    "                    print(\"Duplicate Found. Not added\")\n",
    "                    break # Duplicate handling - Create another copy on left\n",
    "        if current==None:\n",
    "            current=node(add_value,prev)\n",
    "            if nxt==1:\n",
    "                prev.left=current\n",
    "            else:\n",
    "                prev.right=current\n",
    "            self.capacity+=1\n",
    "            \n",
    "    def remove(self,remove_value):\n",
    "        current=self.root\n",
    "        prev=None\n",
    "        nxt=0\n",
    "        case=-1\n",
    "        while current!=None:\n",
    "            if remove_value<current.value:\n",
    "                prev=current\n",
    "                current=current.left\n",
    "                nxt=1\n",
    "            elif remove_value>current.value:\n",
    "                prev=current\n",
    "                current=current.right\n",
    "                nxt=2\n",
    "            elif remove_value==current.value:\n",
    "                print(\"Value Found.\")\n",
    "                case=self.isleaf(current)\n",
    "                print(\"case is :\",case)\n",
    "                break \n",
    "        \n",
    "        # Find Slot\n",
    "        # Check Case 0, 1, 2, 3, 4\n",
    "        # Perform Case 0, 1, 2, 3, 4\n",
    "        if case==-1:\n",
    "            print(\"Couldn't find item\")\n",
    "        elif case==4:\n",
    "            self.copy_subtree(current)\n",
    "            print(\"Need to peform subtree replacement\")\n",
    "        elif case==5:\n",
    "            print(\"Some error finding case\")\n",
    "        self.root.printall()  \n",
    "       \n",
    "    \n",
    "    def isleaf(self,current):\n",
    "        #Check what happends when you remove the last most node. Might have an error trying to find it\n",
    "        if current.left==None and current.right==None:\n",
    "            current.value=None\n",
    "            return 1 # Case 1 Leaf Node. No children\n",
    "        elif current.left!=None and current.right==None:\n",
    "            current.value=current.left.value\n",
    "            current.left=None\n",
    "            return 2 # Case 2 Left child only\n",
    "        elif current.left==None and current.right!=None:\n",
    "            current.value=current.right.value\n",
    "            current.right=None\n",
    "            return 3 # Case 3 Right child only\n",
    "        elif current.left!=None and current.right!=None:\n",
    "            return 4 # Case 4 Both Children\n",
    "        else:\n",
    "            return 5\n",
    "        \n",
    "    def copy_subtree(self, current):\n",
    "        #Smallest in right subtree or largest in left subtree. Going with 1st one\n",
    "        temp=current\n",
    "        l_r=0\n",
    "        subtree_rep=current.right\n",
    "        while subtree_rep.left!=None:\n",
    "            subtree_rep=subtree_rep.left\n",
    "        #Assign Repleacment\n",
    "        current.value=subtree_rep.value\n",
    "        self.isleaf(subtree_rep)\n",
    "        \n",
    "    def rotate_right(self,parent):\n",
    "        temp2=parent.left\n",
    "        parent.left=parent.left.right\n",
    "        temp2.right=parent\n",
    "        parent=temp2\n",
    "        del temp2\n",
    "        return parent\n",
    "     \n",
    "    def rotate_left(self,parent):\n",
    "        temp2=parent.right\n",
    "        parent.right=parent.right.left\n",
    "        temp2.left=parent\n",
    "        parent=temp2\n",
    "        del temp2\n",
    "        return parent\n",
    "            \n",
    "def bst_to_list(root):\n",
    "    capacity=0\n",
    "    full_stack=[]\n",
    "    past_stack=[]\n",
    "    upcoming_stack=[]\n",
    "    past_stack.append(root)\n",
    "    upcoming_stack.append(root)\n",
    "        \n",
    "    while upcoming_stack!=None: # Not decided:\n",
    "        upcoming_stack=[]\n",
    "        for i in past_stack:\n",
    "            if i==None:\n",
    "                upcoming_stack.append(None)\n",
    "                upcoming_stack.append(None)\n",
    "                continue\n",
    "            if i.left==None:\n",
    "                upcoming_stack.append(None)\n",
    "            else:\n",
    "                upcoming_stack.append(i.left)\n",
    "            if i.right==None:\n",
    "                upcoming_stack.append(None)\n",
    "            else:\n",
    "                upcoming_stack.append(i.right)\n",
    "        for j in past_stack:\n",
    "            if j==None:\n",
    "                full_stack.append(None)\n",
    "            else:\n",
    "                full_stack.append(j.value)\n",
    "            capacity+=1\n",
    "        \n",
    "#         print(\"past stack\",past_stack)\n",
    "        \n",
    "#         print(\"Upcoming stack:\",upcoming_stack)\n",
    "        past_stack=upcoming_stack.copy()\n",
    "        \n",
    "        isempty=True\n",
    "        for k in upcoming_stack:\n",
    "            if k!=None:\n",
    "                isempty=False\n",
    "        if isempty:\n",
    "            upcoming_stack=None\n",
    "            \n",
    "    for j in past_stack:\n",
    "        if j==None:\n",
    "            full_stack.append(None)\n",
    "        else:\n",
    "            full_stack.append(j.value)\n",
    "        capacity+=1\n",
    "            \n",
    "#     print(\"Stack: \", full_stack)\n",
    "    printtree(full_stack,capacity)\n",
    "        \n",
    "def printtree(array,capacity):\n",
    "    level=int(log(capacity+1,2))\n",
    "    binary=0\n",
    "    count=0\n",
    "    print(\"\\nCapacity\",capacity)\n",
    "    for i in range(capacity):\n",
    "        j=int(pow(2,level-1-binary))\n",
    "#         for k in range(int(j/2+1)):\n",
    "#             print(\"  \", end =\"\")\n",
    "        if array[i]==None:\n",
    "            print(\"_\", end =\" \")\n",
    "        else:\n",
    "            print(array[i],end =\" \")\n",
    "#         for k in range(int(j/2+1)):\n",
    "#             print(\"  \", end =\"\")\n",
    "                    \n",
    "        count+=1\n",
    "        if count>=(2**binary):\n",
    "            binary+=1\n",
    "            count=0\n",
    "            print(\"\\n\", end =\"\")"
   ]
  },
  {
   "cell_type": "markdown",
   "metadata": {
    "collapsed": true
   },
   "source": [
    "## Beta Testing"
   ]
  },
  {
   "cell_type": "code",
   "execution_count": 29,
   "metadata": {},
   "outputs": [
    {
     "name": "stdout",
     "output_type": "stream",
     "text": [
      "Adding root\n",
      "Adding elements\n",
      "Adding elements\n",
      "Adding elements\n",
      "Adding elements\n",
      "Adding elements\n",
      "Adding elements\n",
      "Adding elements\n",
      "0  2  4  5  6  19  20  21  "
     ]
    }
   ],
   "source": [
    "Tree=bst()\n",
    "# for i in range(8):\n",
    "#     Tree.add(random.randint(0, 20))\n",
    "\n",
    "Tree.add(20)\n",
    "Tree.add(2)\n",
    "Tree.add(21)\n",
    "Tree.add(0)\n",
    "Tree.add(19)\n",
    "Tree.add(6)\n",
    "Tree.add(4)\n",
    "Tree.add(5)\n",
    "Tree.root.printall()"
   ]
  },
  {
   "cell_type": "code",
   "execution_count": 41,
   "metadata": {},
   "outputs": [
    {
     "name": "stdout",
     "output_type": "stream",
     "text": [
      "\n",
      "Capacity 31\n",
      "6 \n",
      "2 20 \n",
      "0 4 19 21 \n",
      "_ _ _ 5 _ _ _ _ \n",
      "_ _ _ _ _ _ _ _ _ _ _ _ _ _ _ _ \n"
     ]
    }
   ],
   "source": [
    "bst_to_list(Tree.root)"
   ]
  },
  {
   "cell_type": "code",
   "execution_count": 40,
   "metadata": {
    "collapsed": true
   },
   "outputs": [],
   "source": [
    "Tree.root=Tree.rotate_left(Tree.root)"
   ]
  },
  {
   "cell_type": "code",
   "execution_count": 27,
   "metadata": {},
   "outputs": [
    {
     "name": "stdout",
     "output_type": "stream",
     "text": [
      "None\n"
     ]
    }
   ],
   "source": [
    "print(Tree.root.parent)"
   ]
  },
  {
   "cell_type": "code",
   "execution_count": 11,
   "metadata": {},
   "outputs": [
    {
     "name": "stdout",
     "output_type": "stream",
     "text": [
      "Value Found.\n",
      "case is : 4\n",
      "Need to peform subtree replacement\n",
      "0  4  5  6  19  20  "
     ]
    }
   ],
   "source": [
    "Tree.remove(2)"
   ]
  },
  {
   "cell_type": "code",
   "execution_count": null,
   "metadata": {
    "collapsed": true
   },
   "outputs": [],
   "source": [
    "Tree.root.left.right.left.left.value"
   ]
  },
  {
   "cell_type": "code",
   "execution_count": 1,
   "metadata": {},
   "outputs": [],
   "source": [
    "#bst_to_list(Tree.root)"
   ]
  },
  {
   "cell_type": "code",
   "execution_count": null,
   "metadata": {
    "collapsed": true
   },
   "outputs": [],
   "source": []
  }
 ],
 "metadata": {
  "kernelspec": {
   "display_name": "Python 3",
   "language": "python",
   "name": "python3"
  },
  "language_info": {
   "codemirror_mode": {
    "name": "ipython",
    "version": 3
   },
   "file_extension": ".py",
   "mimetype": "text/x-python",
   "name": "python",
   "nbconvert_exporter": "python",
   "pygments_lexer": "ipython3",
   "version": "3.6.1"
  }
 },
 "nbformat": 4,
 "nbformat_minor": 2
}
