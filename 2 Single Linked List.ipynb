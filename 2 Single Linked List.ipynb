{
 "cells": [
  {
   "cell_type": "markdown",
   "metadata": {},
   "source": [
    "# Linked List"
   ]
  },
  {
   "cell_type": "markdown",
   "metadata": {},
   "source": [
    "#Create  a linked list of char type that can add, remove, pop and append\n"
   ]
  },
  {
   "cell_type": "code",
   "execution_count": null,
   "metadata": {
    "collapsed": true
   },
   "outputs": [],
   "source": [
    "# #Questions: \n",
    "# Add new to list - end and middle\n",
    "# remove from list - end and middle\n",
    "# traverse for list of honors and names of honors\n",
    "# Find nth student and print"
   ]
  },
  {
   "cell_type": "code",
   "execution_count": 1,
   "metadata": {
    "collapsed": true
   },
   "outputs": [],
   "source": [
    "class Student:\n",
    "    \n",
    "    def is_honor(self):\n",
    "        if self.gpa>7.0:\n",
    "            return True\n",
    "        else:\n",
    "            return False\n",
    "    \n",
    "#     try:\n",
    "    def __init__(self, name, major, gpa, is_probation):\n",
    "        self.name=name\n",
    "        self.major=major\n",
    "        self.gpa=gpa\n",
    "        self.is_probation=is_probation\n",
    "        self.nex=None\n",
    "#     except TypeError:\n",
    "#         print(\"Invalid Input \")\n",
    "            \n",
    "    def print_student(self):\n",
    "        print(\"Student Name: \", self.name, \", Major:\", self.major, \", GPA:\", self.gpa, \", Probation Status:\",self.is_probation)\n",
    "        \n",
    "    \n",
    "    def next_student(self,next_student):\n",
    "        self.nex=next_student\n",
    "    \n",
    "    def copy_class(self, original):\n",
    "        self.name=original.name\n",
    "        self.major=original.major\n",
    "        self.gpa=original.gpa\n",
    "        self.is_probation=original.is_probation\n",
    "        "
   ]
  },
  {
   "cell_type": "code",
   "execution_count": 2,
   "metadata": {
    "collapsed": true
   },
   "outputs": [],
   "source": [
    "def print_list(head):\n",
    "    traverse=head\n",
    "    count=0\n",
    "    if traverse!=None:\n",
    "        while traverse!=None:\n",
    "            traverse.print_student()\n",
    "            traverse=traverse.nex\n",
    "            count+=1\n",
    "        print(\"\\nTotal Count is: \", count)\n",
    "        \n",
    "    else:\n",
    "        print(\"Empty List\")"
   ]
  },
  {
   "cell_type": "code",
   "execution_count": 3,
   "metadata": {
    "collapsed": true
   },
   "outputs": [],
   "source": [
    "def insert_new(name, major, gpa, is_probation, location):\n",
    "    # Location starts with 0 being head\n",
    "    global head,tail\n",
    "    temp=Student(name, major, gpa, is_probation)\n",
    "    \n",
    "    traverse=head\n",
    "    loc=0\n",
    "    while loc<location-1:\n",
    "        traverse=traverse.nex\n",
    "        loc+=1\n",
    "    if loc==location-1:\n",
    "        temp.next_student(traverse.nex)\n",
    "        traverse.nex=temp\n",
    "    \n",
    "    print(\" New student inserted at :\", loc+1)\n",
    "    print_list(head)"
   ]
  },
  {
   "cell_type": "code",
   "execution_count": 4,
   "metadata": {
    "collapsed": true
   },
   "outputs": [],
   "source": [
    "def add_new(name, major, gpa, is_probation):\n",
    "    global head,tail\n",
    "    temp=Student(name, major, gpa, is_probation)\n",
    "    \n",
    "    if head==None:\n",
    "        head=temp\n",
    "    if tail==None:\n",
    "        tail=temp\n",
    "    else:\n",
    "        tail.next_student(temp)\n",
    "        tail=temp\n",
    "    tail.print_student()\n",
    "    del temp"
   ]
  },
  {
   "cell_type": "code",
   "execution_count": 5,
   "metadata": {
    "collapsed": true
   },
   "outputs": [],
   "source": [
    "def honor_list(head):\n",
    "    traverse=head\n",
    "    count=0\n",
    "    honor_list_head=Student(None,None,None,None)\n",
    "    honor_list_last=Student(None,None,None,None)\n",
    "    temp=Student(None,None,None,None)\n",
    "    \n",
    "    while traverse!=None:\n",
    "        if traverse.is_honor()==True:\n",
    "            temp=Student(None,None,None,None)\n",
    "            if count==0:\n",
    "                temp.copy_class(traverse)\n",
    "                honor_list_head=temp\n",
    "                honor_list_last=temp\n",
    "            else:\n",
    "                temp.copy_class(traverse)\n",
    "                honor_list_last.nex=temp\n",
    "                honor_list_last=temp\n",
    "                \n",
    "            count+=1\n",
    "            del temp\n",
    "        traverse=traverse.nex\n",
    "    \n",
    "    print_list(honor_list_head)"
   ]
  },
  {
   "cell_type": "markdown",
   "metadata": {},
   "source": [
    "Student Initiation"
   ]
  },
  {
   "cell_type": "code",
   "execution_count": 6,
   "metadata": {},
   "outputs": [
    {
     "name": "stdout",
     "output_type": "stream",
     "text": [
      "Student Name:  John , Major: Robotics , GPA: 7.5 , Probation Status: False\n",
      "Student Name:  Ryan , Major: Business , GPA: 6.5 , Probation Status: False\n",
      "Student Name:  Jim , Major: Management , GPA: 7.5 , Probation Status: True\n",
      "Student Name:  Ben , Major: Astronomy , GPA: 8.5 , Probation Status: False\n",
      "Student Name:  Paul , Major: Arts , GPA: 6.5 , Probation Status: False\n",
      "Student Name:  Mary , Major: Religion , GPA: 9.5 , Probation Status: True\n"
     ]
    }
   ],
   "source": [
    "students_list=[\n",
    "    [\"John\",\"Robotics\",7.5,False],\n",
    "    [\"Ryan\",\"Business\",6.5,False],\n",
    "    [\"Jim\",\"Management\",7.5,True],\n",
    "    [\"Ben\",\"Astronomy\",8.5,False],\n",
    "    [\"Paul\",\"Arts\",6.5,False],\n",
    "    [\"Mary\",\"Religion\",9.5,True]\n",
    "]\n",
    "\n",
    "# add_new(\"Lyna\", \"Politics\", \"10.0\", False)\n",
    "\n",
    "head=None\n",
    "tail=None\n",
    "\n",
    "for i in range(len(students_list)):\n",
    "    add_new(students_list[i][0],students_list[i][1],students_list[i][2],students_list[i][3])"
   ]
  },
  {
   "cell_type": "code",
   "execution_count": 7,
   "metadata": {
    "collapsed": true
   },
   "outputs": [],
   "source": [
    "#insert_new(\"Lyna\", \"Politics\", 10.0, False, 3)"
   ]
  },
  {
   "cell_type": "code",
   "execution_count": 8,
   "metadata": {},
   "outputs": [
    {
     "name": "stdout",
     "output_type": "stream",
     "text": [
      "Student Name:  John , Major: Robotics , GPA: 7.5 , Probation Status: False\n",
      "Student Name:  Jim , Major: Management , GPA: 7.5 , Probation Status: True\n",
      "Student Name:  Ben , Major: Astronomy , GPA: 8.5 , Probation Status: False\n",
      "Student Name:  Mary , Major: Religion , GPA: 9.5 , Probation Status: True\n",
      "\n",
      "Total Count is:  4\n"
     ]
    }
   ],
   "source": [
    "honor_list(head)"
   ]
  },
  {
   "cell_type": "code",
   "execution_count": 9,
   "metadata": {},
   "outputs": [
    {
     "name": "stdout",
     "output_type": "stream",
     "text": [
      "Student Name:  John , Major: Robotics , GPA: 7.5 , Probation Status: False\n",
      "Student Name:  Ryan , Major: Business , GPA: 6.5 , Probation Status: False\n",
      "Student Name:  Jim , Major: Management , GPA: 7.5 , Probation Status: True\n",
      "Student Name:  Ben , Major: Astronomy , GPA: 8.5 , Probation Status: False\n",
      "Student Name:  Paul , Major: Arts , GPA: 6.5 , Probation Status: False\n",
      "Student Name:  Mary , Major: Religion , GPA: 9.5 , Probation Status: True\n",
      "\n",
      "Total Count is:  6\n"
     ]
    }
   ],
   "source": [
    "print_list(head)"
   ]
  }
 ],
 "metadata": {
  "kernelspec": {
   "display_name": "Python 3",
   "language": "python",
   "name": "python3"
  },
  "language_info": {
   "codemirror_mode": {
    "name": "ipython",
    "version": 3
   },
   "file_extension": ".py",
   "mimetype": "text/x-python",
   "name": "python",
   "nbconvert_exporter": "python",
   "pygments_lexer": "ipython3",
   "version": "3.6.1"
  }
 },
 "nbformat": 4,
 "nbformat_minor": 2
}
