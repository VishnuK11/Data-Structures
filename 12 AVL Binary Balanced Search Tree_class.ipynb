{
 "cells": [
  {
   "cell_type": "markdown",
   "metadata": {},
   "source": [
    "# Balanced Binary Search Tree"
   ]
  },
  {
   "cell_type": "code",
   "execution_count": 2,
   "metadata": {
    "collapsed": true
   },
   "outputs": [],
   "source": [
    "from math import pow,log \n",
    "import random"
   ]
  },
  {
   "cell_type": "code",
   "execution_count": 3,
   "metadata": {
    "collapsed": true
   },
   "outputs": [],
   "source": [
    "# Balance not workign well for root. Rotate is working fine. \n",
    "# Need to check remove and add udpate, balance for remove and new inserts"
   ]
  },
  {
   "cell_type": "code",
   "execution_count": 75,
   "metadata": {
    "collapsed": true
   },
   "outputs": [],
   "source": [
    "class node:\n",
    "    def __init__(self,val,parent):\n",
    "        self.value=val\n",
    "        self.left=None\n",
    "        self.right=None\n",
    "        self.parent=parent\n",
    "        self.height=-1\n",
    "        self.bf=0\n",
    "        \n",
    "    def printall(self):\n",
    "#         \"\\033[A\" Move cursor one line up\n",
    "        binary=0\n",
    "        count=0\n",
    "#         self.space=space\n",
    "        if self.value!=None: #or Current!=None\n",
    "            if self.left!=None:\n",
    "                self.left.printall()\n",
    "            print(self.value,\" \", end =\"\")\n",
    "            if self.right!=None:\n",
    "                self.right.printall()\n",
    "            \n",
    "    \n",
    "    # Root node is when Val is none? \n",
    "    # Leaf node is when left and right are none?\n",
    "    \n",
    "class bst(node):\n",
    "    # Adding\n",
    "    # Removing\n",
    "    # Printing\n",
    "    # Traversing\n",
    "    # Level order or BFS print\n",
    "    \n",
    "    def __init__(self):\n",
    "        self.root=None\n",
    "        self.capacity=0 # starts with 1\n",
    "        self.balance_switch=True\n",
    "        \n",
    "    def add(self,add_value):\n",
    "        current=self.root\n",
    "        prev=None\n",
    "        nxt=0\n",
    "        # Find Slot\n",
    "        if current==None: # Check root\n",
    "            current=node(add_value,None)\n",
    "            self.root=current\n",
    "            self.capacity+=1\n",
    "            print(\"Adding root\")\n",
    "        else:\n",
    "            print(\"Adding elements\")\n",
    "            while current!=None:\n",
    "                if add_value<current.value:\n",
    "                    prev=current\n",
    "                    current=current.left\n",
    "                    nxt=1\n",
    "                elif add_value>current.value:\n",
    "                    prev=current\n",
    "                    current=current.right\n",
    "                    nxt=2\n",
    "                elif add_value==current.value:\n",
    "                    print(\"Duplicate Found. Not added\")\n",
    "                    break # Duplicate handling - Create another copy on left\n",
    "        if current==None:\n",
    "            current=node(add_value,prev)\n",
    "            if nxt==1:\n",
    "                prev.left=current\n",
    "            else:\n",
    "                prev.right=current\n",
    "            self.capacity+=1\n",
    "        \n",
    "        # Update the heights and balance if height is  \n",
    "        if self.balance_switch==True:\n",
    "            self.update(Tree.root)\n",
    "            self.balance(Tree.root)\n",
    "            \n",
    "#         while current!=None:\n",
    "#             self.update(current)\n",
    "#             current=prev\n",
    "#             if current!=None:\n",
    "#                 prev=current.parent\n",
    "#             else:\n",
    "#                 break\n",
    "        \n",
    "            \n",
    "    def remove(self,remove_value):\n",
    "        current=self.root\n",
    "        prev=None\n",
    "        nxt=0\n",
    "        case=-1\n",
    "        while current!=None:\n",
    "            if remove_value<current.value:\n",
    "                prev=current\n",
    "                current=current.left\n",
    "                nxt=1\n",
    "            elif remove_value>current.value:\n",
    "                prev=current\n",
    "                current=current.right\n",
    "                nxt=2\n",
    "            elif remove_value==current.value:\n",
    "                print(\"Value Found.\")\n",
    "                case=self.isleaf(current)\n",
    "                print(\"case is :\",case)\n",
    "                break \n",
    "        \n",
    "        # Find Slot\n",
    "        # Check Case 0, 1, 2, 3, 4\n",
    "        # Perform Case 0, 1, 2, 3, 4\n",
    "        if case==-1:\n",
    "            print(\"Couldn't find item\")\n",
    "        elif case==4:\n",
    "            self.copy_subtree(current)\n",
    "            print(\"Need to peform subtree replacement\")\n",
    "        elif case==5:\n",
    "            print(\"Some error finding case\")\n",
    "        self.root.printall()  \n",
    "       \n",
    "        if self.balance_switch==True:\n",
    "            self.update(Tree.root)\n",
    "            if current.parent!=None:\n",
    "                if current.parent.parent!=None:\n",
    "                    self.balance(current.parent.parent)\n",
    "\n",
    "    \n",
    "    def isleaf(self,current):\n",
    "        #Check what happends when you remove the last most node. Might have an error trying to find it\n",
    "        if current.left==None and current.right==None:\n",
    "            current.value=None\n",
    "            return 1 # Case 1 Leaf Node. No children\n",
    "        elif current.left!=None and current.right==None:\n",
    "            current.value=current.left.value\n",
    "            current.left=None\n",
    "            return 2 # Case 2 Left child only\n",
    "        elif current.left==None and current.right!=None:\n",
    "            current.value=current.right.value\n",
    "            current.right=None\n",
    "            return 3 # Case 3 Right child only\n",
    "        elif current.left!=None and current.right!=None:\n",
    "            return 4 # Case 4 Both Children\n",
    "        else:\n",
    "            return 5\n",
    "        \n",
    "    def copy_subtree(self, current):\n",
    "        #Smallest in right subtree or largest in left subtree. Going with 1st one\n",
    "        temp=current\n",
    "        l_r=0\n",
    "        subtree_rep=current.right\n",
    "        while subtree_rep.left!=None:\n",
    "            subtree_rep=subtree_rep.left\n",
    "        #Assign Repleacment\n",
    "        current.value=subtree_rep.value\n",
    "        self.isleaf(subtree_rep)\n",
    "        \n",
    "    def rotate_right(self,old_parent):\n",
    "        new_parent=old_parent.left\n",
    "        old_parent.left=old_parent.left.right\n",
    "        new_parent.right=old_parent\n",
    "#       # Reassign Parent\n",
    "        if old_parent.parent!=None:\n",
    "            new_parent.parent=old_parent.parent\n",
    "            if new_parent.parent.left==old_parent:\n",
    "                new_parent.parent.left=new_parent\n",
    "            elif new_parent.parent.right==old_parent:\n",
    "                new_parent.parent.right=new_parent\n",
    "        \n",
    "        else:\n",
    "            self.root=new_parent\n",
    "            new_parent.parent=None\n",
    "            \n",
    "        old_parent.parent=new_parent\n",
    "        if old_parent.left!=None:\n",
    "            old_parent.left.parent=old_parent\n",
    "        \n",
    "        self.update(new_parent)\n",
    "        self.update(old_parent)\n",
    "        return new_parent\n",
    "     \n",
    "    def rotate_left(self,old_parent):\n",
    "        new_parent=old_parent.right\n",
    "        old_parent.right=old_parent.right.left\n",
    "        new_parent.left=old_parent\n",
    "\n",
    "        # Reassign Parent\n",
    "        if old_parent.parent!=None:\n",
    "            new_parent.parent=old_parent.parent\n",
    "            if new_parent.parent.left==old_parent:\n",
    "                new_parent.parent.left=new_parent\n",
    "            elif new_parent.parent.right==old_parent:\n",
    "                new_parent.parent.right=new_parent\n",
    "        else:\n",
    "            self.root=new_parent\n",
    "            new_parent.parent=None\n",
    "        old_parent.parent=new_parent\n",
    "        if old_parent.right!=None:\n",
    "            old_parent.right.parent=old_parent\n",
    "\n",
    "            \n",
    "        self.update(new_parent)\n",
    "        self.update(old_parent)\n",
    "        \n",
    "        return new_parent\n",
    "            \n",
    "    def update(self,current):\n",
    "        l_h=-1\n",
    "        r_h=-1\n",
    "        if current.left!=None:\n",
    "            l_h=self.update(current.left)\n",
    "        if current.right!=None:\n",
    "            r_h=self.update(current.right)\n",
    "        current.height=1+max(l_h,r_h)\n",
    "        current.bf=r_h-l_h\n",
    "        return current.height\n",
    "    \n",
    "    def balance(self,current): \n",
    "        # If right heavy, then + else -\n",
    "        # If right heavy, + , rotate left\n",
    "        # If left heavy, -, rotate right\n",
    "        # 4 cases RR,LR,LL,LR\n",
    "        if current.bf<=-2:\n",
    "            if current.left.bf>=0:\n",
    "                current.left=self.rotate_left(current.left)\n",
    "            current=self.rotate_right(current)\n",
    "            \n",
    "        if current.bf>=2:\n",
    "            if current.right.bf<=0:\n",
    "                current.right=self.rotate_right(current.right)\n",
    "            current=self.rotate_left(current)\n",
    "            \n",
    "        if current.left!=None:\n",
    "            self.balance(current.left)\n",
    "        if current.right!=None:\n",
    "            self.balance(current.right)\n",
    "        \n",
    "def bst_to_list(root):\n",
    "    capacity=0\n",
    "    full_stack=[]\n",
    "    past_stack=[]\n",
    "    upcoming_stack=[]\n",
    "    past_stack.append(root)\n",
    "    upcoming_stack.append(root)\n",
    "        \n",
    "    while upcoming_stack!=None: # Not decided:\n",
    "        upcoming_stack=[]\n",
    "        for i in past_stack:\n",
    "            if i==None:\n",
    "                upcoming_stack.append(None)\n",
    "                upcoming_stack.append(None)\n",
    "                continue\n",
    "            if i.left==None:\n",
    "                upcoming_stack.append(None)\n",
    "            else:\n",
    "                upcoming_stack.append(i.left)\n",
    "            if i.right==None:\n",
    "                upcoming_stack.append(None)\n",
    "            else:\n",
    "                upcoming_stack.append(i.right)\n",
    "        for j in past_stack:\n",
    "            if j==None:\n",
    "                full_stack.append(None)\n",
    "            else:\n",
    "                full_stack.append(j.value)\n",
    "            capacity+=1\n",
    "        \n",
    "#         print(\"past stack\",past_stack)\n",
    "        \n",
    "#         print(\"Upcoming stack:\",upcoming_stack)\n",
    "        past_stack=upcoming_stack.copy()\n",
    "        \n",
    "        isempty=True\n",
    "        for k in upcoming_stack:\n",
    "            if k!=None:\n",
    "                isempty=False\n",
    "        if isempty:\n",
    "            upcoming_stack=None\n",
    "            \n",
    "    for j in past_stack:\n",
    "        if j==None:\n",
    "            full_stack.append(None)\n",
    "        else:\n",
    "            full_stack.append(j.value)\n",
    "        capacity+=1\n",
    "            \n",
    "#     print(\"Stack: \", full_stack)\n",
    "    printtree(full_stack,capacity)\n",
    "        \n",
    "def printtree(array,capacity):\n",
    "    level=int(log(capacity+1,2))\n",
    "    binary=0\n",
    "    count=0\n",
    "    print(\"\\nCapacity\",capacity)\n",
    "    for i in range(capacity):\n",
    "        j=int(pow(2,level-1-binary))\n",
    "#         for k in range(int(j/2+1)):\n",
    "#             print(\"  \", end =\"\")\n",
    "        if array[i]==None:\n",
    "            print(\"_\", end =\" \")\n",
    "        else:\n",
    "            print(array[i],end =\" \")\n",
    "#         for k in range(int(j/2+1)):\n",
    "#             print(\"  \", end =\"\")\n",
    "                    \n",
    "        count+=1\n",
    "        if count>=(2**binary):\n",
    "            binary+=1\n",
    "            count=0\n",
    "            print(\"\\n\", end =\"\")"
   ]
  },
  {
   "cell_type": "code",
   "execution_count": null,
   "metadata": {
    "collapsed": true
   },
   "outputs": [],
   "source": []
  },
  {
   "cell_type": "code",
   "execution_count": 76,
   "metadata": {},
   "outputs": [
    {
     "name": "stdout",
     "output_type": "stream",
     "text": [
      "Adding root\n",
      "Adding elements\n",
      "Adding elements\n",
      "Adding elements\n",
      "Adding elements\n",
      "Adding elements\n",
      "Adding elements\n",
      "Adding elements\n",
      "0  2  4  5  6  19  20  21  "
     ]
    }
   ],
   "source": [
    "Tree=bst()\n",
    "# for i in range(7):\n",
    "#     Tree.add(random.randint(0, 20))\n",
    "\n",
    "Tree.add(20)\n",
    "Tree.add(2)\n",
    "Tree.add(21)\n",
    "Tree.add(0)\n",
    "Tree.add(19)\n",
    "Tree.add(6)\n",
    "Tree.add(4)\n",
    "Tree.add(5)\n",
    "Tree.root.printall()"
   ]
  },
  {
   "cell_type": "code",
   "execution_count": 83,
   "metadata": {},
   "outputs": [
    {
     "name": "stdout",
     "output_type": "stream",
     "text": [
      "Adding elements\n",
      "Adding elements\n",
      "Adding elements\n",
      "Duplicate Found. Not added\n",
      "Adding elements\n",
      "Duplicate Found. Not added\n"
     ]
    }
   ],
   "source": [
    "for i in range(4):\n",
    "    Tree.add(random.randint(0, 20))"
   ]
  },
  {
   "cell_type": "code",
   "execution_count": 84,
   "metadata": {},
   "outputs": [
    {
     "name": "stdout",
     "output_type": "stream",
     "text": [
      "\n",
      "Capacity 63\n",
      "6 \n",
      "2 19 \n",
      "0 4 15 20 \n",
      "_ _ _ 5 8 17 _ 21 \n",
      "_ _ _ _ _ _ _ _ 7 13 _ _ _ _ _ _ \n",
      "_ _ _ _ _ _ _ _ _ _ _ _ _ _ _ _ _ _ _ _ _ _ _ _ _ _ _ _ _ _ _ _ \n"
     ]
    }
   ],
   "source": [
    "bst_to_list(Tree.root)"
   ]
  },
  {
   "cell_type": "code",
   "execution_count": 88,
   "metadata": {},
   "outputs": [
    {
     "name": "stdout",
     "output_type": "stream",
     "text": [
      "\n",
      "Capacity 63\n",
      "7 \n",
      "2 20 \n",
      "0 4 15 21 \n",
      "_ _ _ 5 8 17 _ _ \n",
      "_ _ _ _ _ _ _ _ _ 13 _ _ _ _ _ _ \n",
      "_ _ _ _ _ _ _ _ _ _ _ _ _ _ _ _ _ _ _ _ _ _ _ _ _ _ _ _ _ _ _ _ \n"
     ]
    }
   ],
   "source": [
    "bst_to_list(Tree.root)"
   ]
  },
  {
   "cell_type": "code",
   "execution_count": 87,
   "metadata": {},
   "outputs": [
    {
     "name": "stdout",
     "output_type": "stream",
     "text": [
      "Value Found.\n",
      "case is : 4\n",
      "Need to peform subtree replacement\n",
      "0  2  4  5  7  8  13  15  17  20  21  "
     ]
    }
   ],
   "source": [
    "Tree.remove(6)"
   ]
  },
  {
   "cell_type": "code",
   "execution_count": 54,
   "metadata": {},
   "outputs": [
    {
     "name": "stdout",
     "output_type": "stream",
     "text": [
      "LR Parent changed 11\n",
      "RR Parent changed 9\n",
      "Current is 9\n",
      "Root is 9\n"
     ]
    }
   ],
   "source": [
    "Tree.balance(Tree.root)"
   ]
  },
  {
   "cell_type": "code",
   "execution_count": 23,
   "metadata": {},
   "outputs": [
    {
     "data": {
      "text/plain": [
       "21"
      ]
     },
     "execution_count": 23,
     "metadata": {},
     "output_type": "execute_result"
    }
   ],
   "source": [
    "Tree.root.right.value"
   ]
  },
  {
   "cell_type": "code",
   "execution_count": 108,
   "metadata": {},
   "outputs": [
    {
     "name": "stdout",
     "output_type": "stream",
     "text": [
      "Parent changed 19\n"
     ]
    }
   ],
   "source": [
    "Tree.root=Tree.rotate_right(Tree.root)"
   ]
  },
  {
   "cell_type": "code",
   "execution_count": 40,
   "metadata": {
    "collapsed": true
   },
   "outputs": [],
   "source": [
    "Tree.root=Tree.rotate_left(Tree.root)"
   ]
  },
  {
   "cell_type": "code",
   "execution_count": 81,
   "metadata": {},
   "outputs": [
    {
     "data": {
      "text/plain": [
       "2"
      ]
     },
     "execution_count": 81,
     "metadata": {},
     "output_type": "execute_result"
    }
   ],
   "source": [
    "Tree.root.left.left.bf"
   ]
  },
  {
   "cell_type": "code",
   "execution_count": 27,
   "metadata": {},
   "outputs": [
    {
     "name": "stdout",
     "output_type": "stream",
     "text": [
      "None\n"
     ]
    }
   ],
   "source": [
    "print(Tree.root.parent)"
   ]
  },
  {
   "cell_type": "code",
   "execution_count": null,
   "metadata": {
    "collapsed": true
   },
   "outputs": [],
   "source": [
    "Tree.root.left.right.left.left.value"
   ]
  },
  {
   "cell_type": "code",
   "execution_count": 1,
   "metadata": {},
   "outputs": [],
   "source": [
    "#bst_to_list(Tree.root)"
   ]
  },
  {
   "cell_type": "code",
   "execution_count": null,
   "metadata": {
    "collapsed": true
   },
   "outputs": [],
   "source": []
  }
 ],
 "metadata": {
  "kernelspec": {
   "display_name": "Python 3",
   "language": "python",
   "name": "python3"
  },
  "language_info": {
   "codemirror_mode": {
    "name": "ipython",
    "version": 3
   },
   "file_extension": ".py",
   "mimetype": "text/x-python",
   "name": "python",
   "nbconvert_exporter": "python",
   "pygments_lexer": "ipython3",
   "version": "3.6.1"
  }
 },
 "nbformat": 4,
 "nbformat_minor": 2
}
